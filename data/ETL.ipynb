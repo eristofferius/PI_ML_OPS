{
 "cells": [
  {
   "cell_type": "code",
   "execution_count": 1,
   "metadata": {},
   "outputs": [],
   "source": [
    "# Se importan las librerias que seran utilizadas \n",
    "\n",
    "import pandas as pd\n",
    "import numpy as np\n",
    "import matplotlib.pyplot as plt\n",
    "import ast\n",
    "import json\n"
   ]
  },
  {
   "cell_type": "code",
   "execution_count": 2,
   "metadata": {},
   "outputs": [],
   "source": [
    "# Carga de datos desde un archivo JSON y crea un DataFrame en pandas\n",
    "\n",
    "filas = []\n",
    "\n",
    "with open('australian_users_items.json', encoding=\"utf8\") as l:\n",
    "    for linea in l.readlines():\n",
    "        filas.append(ast.literal_eval(linea))\n",
    "\n",
    "df = pd.DataFrame(filas)"
   ]
  },
  {
   "cell_type": "code",
   "execution_count": 86,
   "metadata": {},
   "outputs": [
    {
     "data": {
      "text/plain": [
       "(88310, 5)"
      ]
     },
     "execution_count": 86,
     "metadata": {},
     "output_type": "execute_result"
    }
   ],
   "source": [
    "# Se Verifica la cantidad de registros y en cuantas columnas esta dividido\n",
    "df.shape"
   ]
  },
  {
   "cell_type": "code",
   "execution_count": 87,
   "metadata": {},
   "outputs": [
    {
     "data": {
      "text/html": [
       "<div>\n",
       "<style scoped>\n",
       "    .dataframe tbody tr th:only-of-type {\n",
       "        vertical-align: middle;\n",
       "    }\n",
       "\n",
       "    .dataframe tbody tr th {\n",
       "        vertical-align: top;\n",
       "    }\n",
       "\n",
       "    .dataframe thead th {\n",
       "        text-align: right;\n",
       "    }\n",
       "</style>\n",
       "<table border=\"1\" class=\"dataframe\">\n",
       "  <thead>\n",
       "    <tr style=\"text-align: right;\">\n",
       "      <th></th>\n",
       "      <th>user_id</th>\n",
       "      <th>items_count</th>\n",
       "      <th>steam_id</th>\n",
       "      <th>user_url</th>\n",
       "      <th>items</th>\n",
       "    </tr>\n",
       "  </thead>\n",
       "  <tbody>\n",
       "    <tr>\n",
       "      <th>0</th>\n",
       "      <td>76561197970982479</td>\n",
       "      <td>277</td>\n",
       "      <td>76561197970982479</td>\n",
       "      <td>http://steamcommunity.com/profiles/76561197970...</td>\n",
       "      <td>[{'item_id': '10', 'item_name': 'Counter-Strik...</td>\n",
       "    </tr>\n",
       "    <tr>\n",
       "      <th>1</th>\n",
       "      <td>js41637</td>\n",
       "      <td>888</td>\n",
       "      <td>76561198035864385</td>\n",
       "      <td>http://steamcommunity.com/id/js41637</td>\n",
       "      <td>[{'item_id': '10', 'item_name': 'Counter-Strik...</td>\n",
       "    </tr>\n",
       "    <tr>\n",
       "      <th>2</th>\n",
       "      <td>evcentric</td>\n",
       "      <td>137</td>\n",
       "      <td>76561198007712555</td>\n",
       "      <td>http://steamcommunity.com/id/evcentric</td>\n",
       "      <td>[{'item_id': '1200', 'item_name': 'Red Orchest...</td>\n",
       "    </tr>\n",
       "    <tr>\n",
       "      <th>3</th>\n",
       "      <td>Riot-Punch</td>\n",
       "      <td>328</td>\n",
       "      <td>76561197963445855</td>\n",
       "      <td>http://steamcommunity.com/id/Riot-Punch</td>\n",
       "      <td>[{'item_id': '10', 'item_name': 'Counter-Strik...</td>\n",
       "    </tr>\n",
       "    <tr>\n",
       "      <th>4</th>\n",
       "      <td>doctr</td>\n",
       "      <td>541</td>\n",
       "      <td>76561198002099482</td>\n",
       "      <td>http://steamcommunity.com/id/doctr</td>\n",
       "      <td>[{'item_id': '300', 'item_name': 'Day of Defea...</td>\n",
       "    </tr>\n",
       "  </tbody>\n",
       "</table>\n",
       "</div>"
      ],
      "text/plain": [
       "             user_id  items_count           steam_id  \\\n",
       "0  76561197970982479          277  76561197970982479   \n",
       "1            js41637          888  76561198035864385   \n",
       "2          evcentric          137  76561198007712555   \n",
       "3         Riot-Punch          328  76561197963445855   \n",
       "4              doctr          541  76561198002099482   \n",
       "\n",
       "                                            user_url  \\\n",
       "0  http://steamcommunity.com/profiles/76561197970...   \n",
       "1               http://steamcommunity.com/id/js41637   \n",
       "2             http://steamcommunity.com/id/evcentric   \n",
       "3            http://steamcommunity.com/id/Riot-Punch   \n",
       "4                 http://steamcommunity.com/id/doctr   \n",
       "\n",
       "                                               items  \n",
       "0  [{'item_id': '10', 'item_name': 'Counter-Strik...  \n",
       "1  [{'item_id': '10', 'item_name': 'Counter-Strik...  \n",
       "2  [{'item_id': '1200', 'item_name': 'Red Orchest...  \n",
       "3  [{'item_id': '10', 'item_name': 'Counter-Strik...  \n",
       "4  [{'item_id': '300', 'item_name': 'Day of Defea...  "
      ]
     },
     "execution_count": 87,
     "metadata": {},
     "output_type": "execute_result"
    }
   ],
   "source": [
    "# Se hace una revision de los primeros valores cargados\n",
    "df.head()"
   ]
  },
  {
   "cell_type": "code",
   "execution_count": 85,
   "metadata": {},
   "outputs": [],
   "source": [
    "# Carga de datos desde un archivo JSON y crea un DataFrame en pandas\n",
    "\n",
    "filas = []\n",
    "\n",
    "with open('australian_user_reviews.json', encoding=\"utf8\") as l:\n",
    "    for linea in l.readlines():\n",
    "        filas.append(ast.literal_eval(linea))\n",
    "\n",
    "df2 = pd.DataFrame(filas)"
   ]
  },
  {
   "cell_type": "code",
   "execution_count": 7,
   "metadata": {},
   "outputs": [
    {
     "data": {
      "text/plain": [
       "(25799, 3)"
      ]
     },
     "execution_count": 7,
     "metadata": {},
     "output_type": "execute_result"
    }
   ],
   "source": [
    "# Se Verifica la cantidad de registros y en cuantas columnas esta dividido\n",
    "df2.shape"
   ]
  },
  {
   "cell_type": "code",
   "execution_count": 89,
   "metadata": {},
   "outputs": [
    {
     "data": {
      "text/html": [
       "<div>\n",
       "<style scoped>\n",
       "    .dataframe tbody tr th:only-of-type {\n",
       "        vertical-align: middle;\n",
       "    }\n",
       "\n",
       "    .dataframe tbody tr th {\n",
       "        vertical-align: top;\n",
       "    }\n",
       "\n",
       "    .dataframe thead th {\n",
       "        text-align: right;\n",
       "    }\n",
       "</style>\n",
       "<table border=\"1\" class=\"dataframe\">\n",
       "  <thead>\n",
       "    <tr style=\"text-align: right;\">\n",
       "      <th></th>\n",
       "      <th>user_id</th>\n",
       "      <th>user_url</th>\n",
       "      <th>reviews</th>\n",
       "    </tr>\n",
       "  </thead>\n",
       "  <tbody>\n",
       "    <tr>\n",
       "      <th>0</th>\n",
       "      <td>76561197970982479</td>\n",
       "      <td>http://steamcommunity.com/profiles/76561197970...</td>\n",
       "      <td>[{'funny': '', 'posted': 'Posted November 5, 2...</td>\n",
       "    </tr>\n",
       "    <tr>\n",
       "      <th>1</th>\n",
       "      <td>js41637</td>\n",
       "      <td>http://steamcommunity.com/id/js41637</td>\n",
       "      <td>[{'funny': '', 'posted': 'Posted June 24, 2014...</td>\n",
       "    </tr>\n",
       "    <tr>\n",
       "      <th>2</th>\n",
       "      <td>evcentric</td>\n",
       "      <td>http://steamcommunity.com/id/evcentric</td>\n",
       "      <td>[{'funny': '', 'posted': 'Posted February 3.',...</td>\n",
       "    </tr>\n",
       "    <tr>\n",
       "      <th>3</th>\n",
       "      <td>doctr</td>\n",
       "      <td>http://steamcommunity.com/id/doctr</td>\n",
       "      <td>[{'funny': '', 'posted': 'Posted October 14, 2...</td>\n",
       "    </tr>\n",
       "    <tr>\n",
       "      <th>4</th>\n",
       "      <td>maplemage</td>\n",
       "      <td>http://steamcommunity.com/id/maplemage</td>\n",
       "      <td>[{'funny': '3 people found this review funny',...</td>\n",
       "    </tr>\n",
       "  </tbody>\n",
       "</table>\n",
       "</div>"
      ],
      "text/plain": [
       "             user_id                                           user_url  \\\n",
       "0  76561197970982479  http://steamcommunity.com/profiles/76561197970...   \n",
       "1            js41637               http://steamcommunity.com/id/js41637   \n",
       "2          evcentric             http://steamcommunity.com/id/evcentric   \n",
       "3              doctr                 http://steamcommunity.com/id/doctr   \n",
       "4          maplemage             http://steamcommunity.com/id/maplemage   \n",
       "\n",
       "                                             reviews  \n",
       "0  [{'funny': '', 'posted': 'Posted November 5, 2...  \n",
       "1  [{'funny': '', 'posted': 'Posted June 24, 2014...  \n",
       "2  [{'funny': '', 'posted': 'Posted February 3.',...  \n",
       "3  [{'funny': '', 'posted': 'Posted October 14, 2...  \n",
       "4  [{'funny': '3 people found this review funny',...  "
      ]
     },
     "execution_count": 89,
     "metadata": {},
     "output_type": "execute_result"
    }
   ],
   "source": [
    "# Se hace una revision de los primeros valores cargados\n",
    "df2.head()"
   ]
  },
  {
   "cell_type": "code",
   "execution_count": 65,
   "metadata": {},
   "outputs": [],
   "source": [
    "# Carga de datos desde un archivo JSON y crea un DataFrame en pandas\n",
    "\n",
    "filas = []\n",
    "\n",
    "with open('output_steam_games.json', encoding=\"utf8\") as l:\n",
    "    for linea in l.readlines():\n",
    "        filas.append(linea)\n",
    "\n",
    "df3= pd.DataFrame(filas)\n"
   ]
  },
  {
   "cell_type": "code",
   "execution_count": 20,
   "metadata": {},
   "outputs": [
    {
     "data": {
      "text/plain": [
       "(120445, 18)"
      ]
     },
     "execution_count": 20,
     "metadata": {},
     "output_type": "execute_result"
    }
   ],
   "source": [
    "# Se Verifica la cantidad de registros y en cuantas columnas esta dividido\n",
    "df3.shape"
   ]
  },
  {
   "cell_type": "code",
   "execution_count": 66,
   "metadata": {},
   "outputs": [
    {
     "data": {
      "text/html": [
       "<div>\n",
       "<style scoped>\n",
       "    .dataframe tbody tr th:only-of-type {\n",
       "        vertical-align: middle;\n",
       "    }\n",
       "\n",
       "    .dataframe tbody tr th {\n",
       "        vertical-align: top;\n",
       "    }\n",
       "\n",
       "    .dataframe thead th {\n",
       "        text-align: right;\n",
       "    }\n",
       "</style>\n",
       "<table border=\"1\" class=\"dataframe\">\n",
       "  <thead>\n",
       "    <tr style=\"text-align: right;\">\n",
       "      <th></th>\n",
       "      <th>0</th>\n",
       "    </tr>\n",
       "  </thead>\n",
       "  <tbody>\n",
       "    <tr>\n",
       "      <th>0</th>\n",
       "      <td>{\"publisher\": NaN, \"genres\": NaN, \"app_name\": ...</td>\n",
       "    </tr>\n",
       "    <tr>\n",
       "      <th>1</th>\n",
       "      <td>{\"publisher\": NaN, \"genres\": NaN, \"app_name\": ...</td>\n",
       "    </tr>\n",
       "    <tr>\n",
       "      <th>2</th>\n",
       "      <td>{\"publisher\": NaN, \"genres\": NaN, \"app_name\": ...</td>\n",
       "    </tr>\n",
       "    <tr>\n",
       "      <th>3</th>\n",
       "      <td>{\"publisher\": NaN, \"genres\": NaN, \"app_name\": ...</td>\n",
       "    </tr>\n",
       "    <tr>\n",
       "      <th>4</th>\n",
       "      <td>{\"publisher\": NaN, \"genres\": NaN, \"app_name\": ...</td>\n",
       "    </tr>\n",
       "  </tbody>\n",
       "</table>\n",
       "</div>"
      ],
      "text/plain": [
       "                                                   0\n",
       "0  {\"publisher\": NaN, \"genres\": NaN, \"app_name\": ...\n",
       "1  {\"publisher\": NaN, \"genres\": NaN, \"app_name\": ...\n",
       "2  {\"publisher\": NaN, \"genres\": NaN, \"app_name\": ...\n",
       "3  {\"publisher\": NaN, \"genres\": NaN, \"app_name\": ...\n",
       "4  {\"publisher\": NaN, \"genres\": NaN, \"app_name\": ..."
      ]
     },
     "execution_count": 66,
     "metadata": {},
     "output_type": "execute_result"
    }
   ],
   "source": [
    "# Se hace una revision de los primeros valores cargados\n",
    "df3.head()"
   ]
  },
  {
   "cell_type": "code",
   "execution_count": 67,
   "metadata": {},
   "outputs": [],
   "source": [
    "# Ya que los Datos vienen en una columna unica, se le asigna un nombre para una manipulacion mas comoda\n",
    "df3.rename(columns={0 : 'raw'}, inplace=True)\n",
    "\n"
   ]
  },
  {
   "cell_type": "code",
   "execution_count": 68,
   "metadata": {},
   "outputs": [],
   "source": [
    "# Se hace una purga de informacion redundante para la optimizacion del modelo\n",
    "df3['raw'] = df3['raw'].replace({', \"genres\"':''}, regex=True)\n",
    "df3['raw'] = df3['raw'].replace({', \"app_name\"':''}, regex=True)\n",
    "df3['raw'] = df3['raw'].replace({', \"title\"':''}, regex=True)\n",
    "df3['raw'] = df3['raw'].replace({', \"url\"':''}, regex=True)\n",
    "df3['raw'] = df3['raw'].replace({', \"release_date\"':''}, regex=True)\n",
    "df3['raw'] = df3['raw'].replace({', \"tags\"':''}, regex=True)\n",
    "df3['raw'] = df3['raw'].replace({', \"reviews_url\"':''}, regex=True)\n",
    "df3['raw'] = df3['raw'].replace({', \"specs\"':''}, regex=True)\n",
    "df3['raw'] = df3['raw'].replace({', \"price\"':''}, regex=True)\n",
    "df3['raw'] = df3['raw'].replace({', \"early_access\"':''}, regex=True)\n",
    "df3['raw'] = df3['raw'].replace({', \"id\"':''}, regex=True)\n",
    "df3['raw'] = df3['raw'].replace({', \"developer\"':''}, regex=True)\n"
   ]
  },
  {
   "cell_type": "code",
   "execution_count": 69,
   "metadata": {},
   "outputs": [],
   "source": [
    "# Se procede a devidir las columnas por medio del caracter ':' creandose un total de 24 columnas\n",
    "df3 = df3['raw'].str.split(':', expand= True)"
   ]
  },
  {
   "cell_type": "code",
   "execution_count": 70,
   "metadata": {},
   "outputs": [],
   "source": [
    "# Se le asigna un nombre a todas las columnas para su manipulacion\n",
    "df3.rename(columns={0 : 'dpr',1 : 'publisher',2 : 'genres',3 : 'app_name',4 : 'title',5 : 'url',\n",
    "                    6 : 'release_date',7 : 'tags',8 : 'reviews_url',9 : 'specs',10 : 'price',11 : 'early_access',\n",
    "                    12 : 'id',13 : 'PlaceHolder13',14 : 'PlaceHolder14',15 : 'PlaceHolder15',16 : 'PlaceHolder16',17 : 'PlaceHolder17',\n",
    "                    18 : 'PlaceHolder18',19 : 'PlaceHolder19',20 : 'PlaceHolder20',21 : 'PlaceHolder21',22 : 'PlaceHolder22',23 : 'PlaceHolder23'}, inplace=True)\n"
   ]
  },
  {
   "cell_type": "code",
   "execution_count": 71,
   "metadata": {},
   "outputs": [],
   "source": [
    "# Se elimina la primera columna que no aportaba ningun valor\n",
    "df3 = df3.drop(['dpr'], axis=1)"
   ]
  },
  {
   "cell_type": "code",
   "execution_count": 72,
   "metadata": {},
   "outputs": [],
   "source": [
    "# Se procede a unir nuevamente las columnas desde 'PlaceHolder13' a 'PlaceHolder23' de forma parcializada \n",
    "df3['PlaceHolder1'] = df3.PlaceHolder13.str.cat(df3.PlaceHolder14)\n",
    "df3['PlaceHolder2'] = df3.PlaceHolder15.str.cat(df3.PlaceHolder16)\n",
    "df3['PlaceHolder3'] = df3.PlaceHolder17.str.cat(df3.PlaceHolder18)\n",
    "df3['PlaceHolder4'] = df3.PlaceHolder19.str.cat(df3.PlaceHolder20)\n",
    "df3['PlaceHolder5'] = df3.PlaceHolder21.str.cat(df3.PlaceHolder22)\n",
    "\n",
    "# Se eliminan las columnas que fueron unidas\n",
    "df3 = df3.drop(['PlaceHolder13','PlaceHolder14','PlaceHolder15','PlaceHolder16','PlaceHolder17','PlaceHolder18','PlaceHolder19',\n",
    "                'PlaceHolder20','PlaceHolder21','PlaceHolder22'], axis=1)"
   ]
  },
  {
   "cell_type": "code",
   "execution_count": 73,
   "metadata": {},
   "outputs": [],
   "source": [
    "# Se unen las columnas en una segunda etapa\n",
    "df3['PlaceHolder6'] = df3.PlaceHolder1.str.cat(df3.PlaceHolder2)\n",
    "df3['PlaceHolder7'] = df3.PlaceHolder3.str.cat(df3.PlaceHolder4)\n",
    "df3['PlaceHolder8'] = df3.PlaceHolder5.str.cat(df3.PlaceHolder23)\n",
    "\n",
    "# Se eliminan columnas ya unidas\n",
    "df3 = df3.drop(['PlaceHolder1','PlaceHolder2','PlaceHolder3','PlaceHolder4','PlaceHolder5','PlaceHolder23'], axis=1)"
   ]
  },
  {
   "cell_type": "code",
   "execution_count": 74,
   "metadata": {},
   "outputs": [],
   "source": [
    "# Se unen columnas en una tercera etapa\n",
    "df3['PlaceHolder9'] = df3.PlaceHolder6.str.cat(df3.PlaceHolder7)\n",
    "\n",
    "# Se eliminan las columnas unidas\n",
    "df3 = df3.drop(['PlaceHolder6','PlaceHolder7'], axis=1)\n",
    "\n",
    "\n"
   ]
  },
  {
   "cell_type": "code",
   "execution_count": 75,
   "metadata": {},
   "outputs": [],
   "source": [
    "#Se unen las columnas en una ultima etapa bajo el nombre 'developer' \n",
    "df3['developer'] = df3.PlaceHolder8.str.cat(df3.PlaceHolder9)\n",
    "\n",
    "#se eliminan las columnas ya unidas\n",
    "df3 = df3.drop(['PlaceHolder8','PlaceHolder9'], axis=1)"
   ]
  },
  {
   "cell_type": "code",
   "execution_count": 76,
   "metadata": {},
   "outputs": [],
   "source": [
    "#Se reemplazan los valores 'NaN' por None para una limpieza de datos\n",
    "df3 = df3.replace({'NaN': None }, regex=True)"
   ]
  },
  {
   "cell_type": "code",
   "execution_count": 80,
   "metadata": {},
   "outputs": [],
   "source": [
    "# Se eliminan las filas que la totalidas de sus columnas contengas None\n",
    "df3 = df3.dropna(how='all')"
   ]
  },
  {
   "cell_type": "code",
   "execution_count": 83,
   "metadata": {},
   "outputs": [
    {
     "data": {
      "text/plain": [
       "(32135, 13)"
      ]
     },
     "execution_count": 83,
     "metadata": {},
     "output_type": "execute_result"
    }
   ],
   "source": [
    "# Se verifica la disminucion de volumen de datos\n",
    "df3.shape"
   ]
  },
  {
   "cell_type": "code",
   "execution_count": 88,
   "metadata": {},
   "outputs": [],
   "source": [
    "# Se almacena la informacion transformada a un archivo .parquet\n",
    "df.to_parquet('../data/australian_users_items.parquet')"
   ]
  },
  {
   "cell_type": "code",
   "execution_count": 90,
   "metadata": {},
   "outputs": [],
   "source": [
    "# Se almacena la informacion transformada a un archivo .parquet\n",
    "df2.to_parquet('../data/australian_user_reviews.parquet')"
   ]
  },
  {
   "cell_type": "code",
   "execution_count": 84,
   "metadata": {},
   "outputs": [],
   "source": [
    "# Se almacena la informacion transformada a un archivo .parquet\n",
    "df3.to_parquet('../data/output_steam_games.parquet')"
   ]
  }
 ],
 "metadata": {
  "kernelspec": {
   "display_name": "Python 3",
   "language": "python",
   "name": "python3"
  },
  "language_info": {
   "codemirror_mode": {
    "name": "ipython",
    "version": 3
   },
   "file_extension": ".py",
   "mimetype": "text/x-python",
   "name": "python",
   "nbconvert_exporter": "python",
   "pygments_lexer": "ipython3",
   "version": "3.11.2"
  }
 },
 "nbformat": 4,
 "nbformat_minor": 2
}
